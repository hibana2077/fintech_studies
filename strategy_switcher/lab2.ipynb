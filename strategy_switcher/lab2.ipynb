{
 "cells": [
  {
   "cell_type": "code",
   "execution_count": 1,
   "metadata": {},
   "outputs": [
    {
     "data": {
      "text/html": [
       "<div>\n",
       "<style scoped>\n",
       "    .dataframe tbody tr th:only-of-type {\n",
       "        vertical-align: middle;\n",
       "    }\n",
       "\n",
       "    .dataframe tbody tr th {\n",
       "        vertical-align: top;\n",
       "    }\n",
       "\n",
       "    .dataframe thead th {\n",
       "        text-align: right;\n",
       "    }\n",
       "</style>\n",
       "<table border=\"1\" class=\"dataframe\">\n",
       "  <thead>\n",
       "    <tr style=\"text-align: right;\">\n",
       "      <th></th>\n",
       "      <th>time</th>\n",
       "      <th>open</th>\n",
       "      <th>high</th>\n",
       "      <th>low</th>\n",
       "      <th>close</th>\n",
       "      <th>volume</th>\n",
       "    </tr>\n",
       "  </thead>\n",
       "  <tbody>\n",
       "    <tr>\n",
       "      <th>0</th>\n",
       "      <td>2023-01-01 00:00:00</td>\n",
       "      <td>15.688</td>\n",
       "      <td>15.713</td>\n",
       "      <td>15.630</td>\n",
       "      <td>15.636</td>\n",
       "      <td>91972.05</td>\n",
       "    </tr>\n",
       "    <tr>\n",
       "      <th>1</th>\n",
       "      <td>2023-01-01 00:15:00</td>\n",
       "      <td>15.635</td>\n",
       "      <td>15.682</td>\n",
       "      <td>15.628</td>\n",
       "      <td>15.682</td>\n",
       "      <td>60041.83</td>\n",
       "    </tr>\n",
       "    <tr>\n",
       "      <th>2</th>\n",
       "      <td>2023-01-01 00:30:00</td>\n",
       "      <td>15.681</td>\n",
       "      <td>15.686</td>\n",
       "      <td>15.610</td>\n",
       "      <td>15.623</td>\n",
       "      <td>73937.39</td>\n",
       "    </tr>\n",
       "    <tr>\n",
       "      <th>3</th>\n",
       "      <td>2023-01-01 00:45:00</td>\n",
       "      <td>15.622</td>\n",
       "      <td>15.658</td>\n",
       "      <td>15.619</td>\n",
       "      <td>15.657</td>\n",
       "      <td>35434.75</td>\n",
       "    </tr>\n",
       "    <tr>\n",
       "      <th>4</th>\n",
       "      <td>2023-01-01 01:00:00</td>\n",
       "      <td>15.657</td>\n",
       "      <td>15.671</td>\n",
       "      <td>15.635</td>\n",
       "      <td>15.658</td>\n",
       "      <td>46886.82</td>\n",
       "    </tr>\n",
       "  </tbody>\n",
       "</table>\n",
       "</div>"
      ],
      "text/plain": [
       "                  time    open    high     low   close    volume\n",
       "0  2023-01-01 00:00:00  15.688  15.713  15.630  15.636  91972.05\n",
       "1  2023-01-01 00:15:00  15.635  15.682  15.628  15.682  60041.83\n",
       "2  2023-01-01 00:30:00  15.681  15.686  15.610  15.623  73937.39\n",
       "3  2023-01-01 00:45:00  15.622  15.658  15.619  15.657  35434.75\n",
       "4  2023-01-01 01:00:00  15.657  15.671  15.635  15.658  46886.82"
      ]
     },
     "execution_count": 1,
     "metadata": {},
     "output_type": "execute_result"
    }
   ],
   "source": [
    "import pandas as pd\n",
    "df = pd.read_csv('./data/ETCUSDT_15m.csv')\n",
    "df.head()"
   ]
  },
  {
   "cell_type": "code",
   "execution_count": 2,
   "metadata": {},
   "outputs": [],
   "source": [
    "# df = df.rename(columns={'close': 'Close', 'open': 'Open', 'high': 'High', 'low': 'Low', 'volume': 'Volume'})"
   ]
  },
  {
   "cell_type": "code",
   "execution_count": 3,
   "metadata": {},
   "outputs": [],
   "source": [
    "import pandas_ta as ta\n",
    "df[\"EMA\"] = ta.ema(df.close, length=50)\n",
    "df[\"RSI\"] = ta.rsi(df.close, length=3)\n",
    "a=ta.adx(df.high, df.low, df.close, length=5)\n",
    "df['ADX']=a['ADX_5']\n",
    "df['ATR']= df.ta.atr()\n",
    "#help(ta.adx)"
   ]
  },
  {
   "cell_type": "code",
   "execution_count": 4,
   "metadata": {},
   "outputs": [
    {
     "data": {
      "text/html": [
       "<div>\n",
       "<style scoped>\n",
       "    .dataframe tbody tr th:only-of-type {\n",
       "        vertical-align: middle;\n",
       "    }\n",
       "\n",
       "    .dataframe tbody tr th {\n",
       "        vertical-align: top;\n",
       "    }\n",
       "\n",
       "    .dataframe thead th {\n",
       "        text-align: right;\n",
       "    }\n",
       "</style>\n",
       "<table border=\"1\" class=\"dataframe\">\n",
       "  <thead>\n",
       "    <tr style=\"text-align: right;\">\n",
       "      <th></th>\n",
       "      <th>time</th>\n",
       "      <th>open</th>\n",
       "      <th>high</th>\n",
       "      <th>low</th>\n",
       "      <th>close</th>\n",
       "      <th>volume</th>\n",
       "      <th>EMA</th>\n",
       "      <th>RSI</th>\n",
       "      <th>ADX</th>\n",
       "      <th>ATR</th>\n",
       "    </tr>\n",
       "  </thead>\n",
       "  <tbody>\n",
       "    <tr>\n",
       "      <th>49</th>\n",
       "      <td>2023-01-01 12:15:00</td>\n",
       "      <td>15.699</td>\n",
       "      <td>15.705</td>\n",
       "      <td>15.676</td>\n",
       "      <td>15.690</td>\n",
       "      <td>60740.07</td>\n",
       "      <td>15.665620</td>\n",
       "      <td>65.817740</td>\n",
       "      <td>28.842651</td>\n",
       "      <td>0.036723</td>\n",
       "    </tr>\n",
       "    <tr>\n",
       "      <th>50</th>\n",
       "      <td>2023-01-01 12:30:00</td>\n",
       "      <td>15.691</td>\n",
       "      <td>15.700</td>\n",
       "      <td>15.678</td>\n",
       "      <td>15.683</td>\n",
       "      <td>18928.34</td>\n",
       "      <td>15.666302</td>\n",
       "      <td>54.728873</td>\n",
       "      <td>32.635544</td>\n",
       "      <td>0.035645</td>\n",
       "    </tr>\n",
       "    <tr>\n",
       "      <th>51</th>\n",
       "      <td>2023-01-01 12:45:00</td>\n",
       "      <td>15.683</td>\n",
       "      <td>15.700</td>\n",
       "      <td>15.683</td>\n",
       "      <td>15.690</td>\n",
       "      <td>14555.86</td>\n",
       "      <td>15.667231</td>\n",
       "      <td>63.861666</td>\n",
       "      <td>35.669811</td>\n",
       "      <td>0.034282</td>\n",
       "    </tr>\n",
       "    <tr>\n",
       "      <th>52</th>\n",
       "      <td>2023-01-01 13:00:00</td>\n",
       "      <td>15.690</td>\n",
       "      <td>15.716</td>\n",
       "      <td>15.660</td>\n",
       "      <td>15.661</td>\n",
       "      <td>41132.92</td>\n",
       "      <td>15.666987</td>\n",
       "      <td>28.337095</td>\n",
       "      <td>29.383595</td>\n",
       "      <td>0.035867</td>\n",
       "    </tr>\n",
       "    <tr>\n",
       "      <th>53</th>\n",
       "      <td>2023-01-01 13:15:00</td>\n",
       "      <td>15.661</td>\n",
       "      <td>15.675</td>\n",
       "      <td>15.645</td>\n",
       "      <td>15.654</td>\n",
       "      <td>28514.98</td>\n",
       "      <td>15.666477</td>\n",
       "      <td>23.586542</td>\n",
       "      <td>28.626302</td>\n",
       "      <td>0.035439</td>\n",
       "    </tr>\n",
       "  </tbody>\n",
       "</table>\n",
       "</div>"
      ],
      "text/plain": [
       "                   time    open    high     low   close    volume        EMA  \\\n",
       "49  2023-01-01 12:15:00  15.699  15.705  15.676  15.690  60740.07  15.665620   \n",
       "50  2023-01-01 12:30:00  15.691  15.700  15.678  15.683  18928.34  15.666302   \n",
       "51  2023-01-01 12:45:00  15.683  15.700  15.683  15.690  14555.86  15.667231   \n",
       "52  2023-01-01 13:00:00  15.690  15.716  15.660  15.661  41132.92  15.666987   \n",
       "53  2023-01-01 13:15:00  15.661  15.675  15.645  15.654  28514.98  15.666477   \n",
       "\n",
       "          RSI        ADX       ATR  \n",
       "49  65.817740  28.842651  0.036723  \n",
       "50  54.728873  32.635544  0.035645  \n",
       "51  63.861666  35.669811  0.034282  \n",
       "52  28.337095  29.383595  0.035867  \n",
       "53  23.586542  28.626302  0.035439  "
      ]
     },
     "execution_count": 4,
     "metadata": {},
     "output_type": "execute_result"
    }
   ],
   "source": [
    "#dropna\n",
    "df = df.dropna()\n",
    "df.head()"
   ]
  },
  {
   "cell_type": "code",
   "execution_count": 5,
   "metadata": {},
   "outputs": [
    {
     "name": "stderr",
     "output_type": "stream",
     "text": [
      "C:\\Users\\hiban\\AppData\\Local\\Temp\\ipykernel_22880\\1852176384.py:3: SettingWithCopyWarning: \n",
      "A value is trying to be set on a copy of a slice from a DataFrame.\n",
      "Try using .loc[row_indexer,col_indexer] = value instead\n",
      "\n",
      "See the caveats in the documentation: https://pandas.pydata.org/pandas-docs/stable/user_guide/indexing.html#returning-a-view-versus-a-copy\n",
      "  df['time'] = pd.to_datetime(df['time'])\n"
     ]
    },
    {
     "data": {
      "text/html": [
       "<div>\n",
       "<style scoped>\n",
       "    .dataframe tbody tr th:only-of-type {\n",
       "        vertical-align: middle;\n",
       "    }\n",
       "\n",
       "    .dataframe tbody tr th {\n",
       "        vertical-align: top;\n",
       "    }\n",
       "\n",
       "    .dataframe thead th {\n",
       "        text-align: right;\n",
       "    }\n",
       "</style>\n",
       "<table border=\"1\" class=\"dataframe\">\n",
       "  <thead>\n",
       "    <tr style=\"text-align: right;\">\n",
       "      <th></th>\n",
       "      <th>open</th>\n",
       "      <th>high</th>\n",
       "      <th>low</th>\n",
       "      <th>close</th>\n",
       "      <th>volume</th>\n",
       "      <th>EMA</th>\n",
       "      <th>RSI</th>\n",
       "      <th>ADX</th>\n",
       "      <th>ATR</th>\n",
       "    </tr>\n",
       "    <tr>\n",
       "      <th>time</th>\n",
       "      <th></th>\n",
       "      <th></th>\n",
       "      <th></th>\n",
       "      <th></th>\n",
       "      <th></th>\n",
       "      <th></th>\n",
       "      <th></th>\n",
       "      <th></th>\n",
       "      <th></th>\n",
       "    </tr>\n",
       "  </thead>\n",
       "  <tbody>\n",
       "    <tr>\n",
       "      <th>2023-01-01 12:15:00</th>\n",
       "      <td>15.699</td>\n",
       "      <td>15.705</td>\n",
       "      <td>15.676</td>\n",
       "      <td>15.690</td>\n",
       "      <td>60740.07</td>\n",
       "      <td>15.665620</td>\n",
       "      <td>65.817740</td>\n",
       "      <td>28.842651</td>\n",
       "      <td>0.036723</td>\n",
       "    </tr>\n",
       "    <tr>\n",
       "      <th>2023-01-01 12:30:00</th>\n",
       "      <td>15.691</td>\n",
       "      <td>15.700</td>\n",
       "      <td>15.678</td>\n",
       "      <td>15.683</td>\n",
       "      <td>18928.34</td>\n",
       "      <td>15.666302</td>\n",
       "      <td>54.728873</td>\n",
       "      <td>32.635544</td>\n",
       "      <td>0.035645</td>\n",
       "    </tr>\n",
       "    <tr>\n",
       "      <th>2023-01-01 12:45:00</th>\n",
       "      <td>15.683</td>\n",
       "      <td>15.700</td>\n",
       "      <td>15.683</td>\n",
       "      <td>15.690</td>\n",
       "      <td>14555.86</td>\n",
       "      <td>15.667231</td>\n",
       "      <td>63.861666</td>\n",
       "      <td>35.669811</td>\n",
       "      <td>0.034282</td>\n",
       "    </tr>\n",
       "    <tr>\n",
       "      <th>2023-01-01 13:00:00</th>\n",
       "      <td>15.690</td>\n",
       "      <td>15.716</td>\n",
       "      <td>15.660</td>\n",
       "      <td>15.661</td>\n",
       "      <td>41132.92</td>\n",
       "      <td>15.666987</td>\n",
       "      <td>28.337095</td>\n",
       "      <td>29.383595</td>\n",
       "      <td>0.035867</td>\n",
       "    </tr>\n",
       "    <tr>\n",
       "      <th>2023-01-01 13:15:00</th>\n",
       "      <td>15.661</td>\n",
       "      <td>15.675</td>\n",
       "      <td>15.645</td>\n",
       "      <td>15.654</td>\n",
       "      <td>28514.98</td>\n",
       "      <td>15.666477</td>\n",
       "      <td>23.586542</td>\n",
       "      <td>28.626302</td>\n",
       "      <td>0.035439</td>\n",
       "    </tr>\n",
       "  </tbody>\n",
       "</table>\n",
       "</div>"
      ],
      "text/plain": [
       "                       open    high     low   close    volume        EMA  \\\n",
       "time                                                                       \n",
       "2023-01-01 12:15:00  15.699  15.705  15.676  15.690  60740.07  15.665620   \n",
       "2023-01-01 12:30:00  15.691  15.700  15.678  15.683  18928.34  15.666302   \n",
       "2023-01-01 12:45:00  15.683  15.700  15.683  15.690  14555.86  15.667231   \n",
       "2023-01-01 13:00:00  15.690  15.716  15.660  15.661  41132.92  15.666987   \n",
       "2023-01-01 13:15:00  15.661  15.675  15.645  15.654  28514.98  15.666477   \n",
       "\n",
       "                           RSI        ADX       ATR  \n",
       "time                                                 \n",
       "2023-01-01 12:15:00  65.817740  28.842651  0.036723  \n",
       "2023-01-01 12:30:00  54.728873  32.635544  0.035645  \n",
       "2023-01-01 12:45:00  63.861666  35.669811  0.034282  \n",
       "2023-01-01 13:00:00  28.337095  29.383595  0.035867  \n",
       "2023-01-01 13:15:00  23.586542  28.626302  0.035439  "
      ]
     },
     "execution_count": 5,
     "metadata": {},
     "output_type": "execute_result"
    }
   ],
   "source": [
    "#set time to index\n",
    "\n",
    "df['time'] = pd.to_datetime(df['time'])\n",
    "df = df.set_index('time')\n",
    "df.head()"
   ]
  },
  {
   "cell_type": "code",
   "execution_count": 6,
   "metadata": {},
   "outputs": [
    {
     "name": "stdout",
     "output_type": "stream",
     "text": [
      "Pattern: Gartley , bull_signal: Counter({0.0: 26892, 1.0: 1059}), bear_signal: Counter({0.0: 27263, -1.0: 688})\n",
      "Gartley Counter({0.0: 26204, 1.0: 1059, -1.0: 688})\n",
      "=====================================\n",
      "Pattern: Bat , bull_signal: Counter({0.0: 27844, 1.0: 107}), bear_signal: Counter({0.0: 27837, -1.0: 114})\n",
      "Bat Counter({0.0: 27730, -1.0: 114, 1.0: 107})\n",
      "=====================================\n",
      "Pattern: Butterfly , bull_signal: Counter({0.0: 27821, 1.0: 130}), bear_signal: Counter({0.0: 27669, -1.0: 282})\n",
      "Butterfly Counter({0.0: 27539, -1.0: 282, 1.0: 130})\n",
      "=====================================\n",
      "Pattern: Crab , bull_signal: Counter({0.0: 27947, 1.0: 4}), bear_signal: Counter({0.0: 27951})\n",
      "Crab Counter({0.0: 27947, 1.0: 4})\n",
      "=====================================\n",
      "Pattern: Deep Crab , bull_signal: Counter({0.0: 27935, 1.0: 16}), bear_signal: Counter({0.0: 27870, -1.0: 81})\n",
      "Deep Crab Counter({0.0: 27854, -1.0: 81, 1.0: 16})\n",
      "=====================================\n",
      "Pattern: Cypher , bull_signal: Counter({0.0: 27840, 1.0: 111}), bear_signal: Counter({0.0: 27468, -1.0: 483})\n",
      "Cypher Counter({0.0: 27357, -1.0: 483, 1.0: 111})\n",
      "=====================================\n",
      "Pattern: Shark , bull_signal: Counter({0.0: 27919, 1.0: 32}), bear_signal: Counter({0.0: 27725, -1.0: 226})\n",
      "Shark Counter({0.0: 27693, -1.0: 226, 1.0: 32})\n",
      "=====================================\n"
     ]
    }
   ],
   "source": [
    "from directional_change import *\n",
    "from xabcd import *\n",
    "from collections import Counter\n",
    "\n",
    "ext = get_extremes(df, sigma=0.02)\n",
    "patterns = find_xabcd(df,extremes=ext, err_thresh=0.5)\n",
    "# patterns.keys()\n",
    "# temp = patterns['Gartley']['bear_signal']\n",
    "# Counter(temp)\n",
    "for idx in patterns.keys():\n",
    "    bull_signal = patterns[idx]['bull_signal']\n",
    "    original_bull_signal_count = Counter(bull_signal)\n",
    "    bear_signal = patterns[idx]['bear_signal']\n",
    "    original_bear_signal_count = Counter(bear_signal)\n",
    "    print(f\"Pattern: {idx} , bull_signal: {original_bull_signal_count}, bear_signal: {original_bear_signal_count}\")\n",
    "    # put all signals together\n",
    "    all_signals = bull_signal + bear_signal\n",
    "    # count the number of each signal\n",
    "    count = Counter(all_signals)\n",
    "    print(idx, count)\n",
    "    df[idx] = all_signals\n",
    "    print(\"=====================================\")"
   ]
  },
  {
   "cell_type": "code",
   "execution_count": 7,
   "metadata": {},
   "outputs": [],
   "source": [
    "#rename columns\n",
    "df.rename(columns={'open': 'Open', 'high': 'High', 'low': 'Low', 'close': 'Close', 'volume': 'Volume'}, inplace=True)"
   ]
  },
  {
   "cell_type": "code",
   "execution_count": 8,
   "metadata": {},
   "outputs": [
    {
     "data": {
      "text/plain": [
       " 0.0    26204\n",
       " 1.0     1059\n",
       "-1.0      688\n",
       "Name: Gartley, dtype: int64"
      ]
     },
     "execution_count": 8,
     "metadata": {},
     "output_type": "execute_result"
    }
   ],
   "source": [
    "df['Gartley'].value_counts()"
   ]
  },
  {
   "cell_type": "code",
   "execution_count": 9,
   "metadata": {},
   "outputs": [
    {
     "data": {
      "text/plain": [
       "Start                     2023-01-01 12:15:00\n",
       "End                       2023-10-19 15:45:00\n",
       "Duration                    291 days 03:30:00\n",
       "Exposure Time [%]                    7.692032\n",
       "Equity Final [$]                    19.966007\n",
       "Equity Peak [$]                  55814.042938\n",
       "Return [%]                         -99.960068\n",
       "Buy & Hold Return [%]               -5.991077\n",
       "Return (Ann.) [%]                  -99.994355\n",
       "Volatility (Ann.) [%]                0.949452\n",
       "Sharpe Ratio                              0.0\n",
       "Sortino Ratio                             0.0\n",
       "Calmar Ratio                              0.0\n",
       "Max. Drawdown [%]                  -99.978831\n",
       "Avg. Drawdown [%]                  -41.656109\n",
       "Max. Drawdown Duration      284 days 16:45:00\n",
       "Avg. Drawdown Duration       94 days 23:35:00\n",
       "# Trades                                  429\n",
       "Win Rate [%]                        41.958042\n",
       "Best Trade [%]                       2.593913\n",
       "Worst Trade [%]                     -2.491639\n",
       "Avg. Trade [%]                        0.01461\n",
       "Max. Trade Duration           1 days 00:15:00\n",
       "Avg. Trade Duration           0 days 01:54:00\n",
       "Profit Factor                        1.048346\n",
       "Expectancy [%]                       0.018626\n",
       "SQN                                 -1.955501\n",
       "_strategy                      XABCD_Strategy\n",
       "_equity_curve                             ...\n",
       "_trades                         Size  Entr...\n",
       "dtype: object"
      ]
     },
     "execution_count": 9,
     "metadata": {},
     "output_type": "execute_result"
    }
   ],
   "source": [
    "from backtesting import Strategy\n",
    "from backtesting import Backtest\n",
    "\n",
    "def SIGNAL(df,col_name):\n",
    "    return df[col_name]\n",
    "\n",
    "class XABCD_Strategy(Strategy):\n",
    "    pattern_type = 'Gartley' # [GARTLEY, BAT, BUTTERFLY, CRAB, DEEP_CRAB, CYPHER, SHARK]\n",
    "    atr_sl_rate = 1.3\n",
    "    TPSL_rate = 1.5\n",
    "    trade_limit = 1\n",
    "\n",
    "    def init(self):\n",
    "        super().init()\n",
    "        self.signal = self.I(SIGNAL, self.data, self.pattern_type)\n",
    "\n",
    "    def next(self):\n",
    "        super().next()\n",
    "\n",
    "        # self.signal = self.data[self.pattern_type]\n",
    "\n",
    "        slatr = self.atr_sl_rate * self.data.ATR[-1]\n",
    "        if self.signal == 1.0 and len(self.trades)<=self.trade_limit:\n",
    "            sl_price = self.data.Close[-1] - slatr\n",
    "            tp_price = self.data.Close[-1] + self.TPSL_rate * slatr\n",
    "            self.buy(sl=sl_price, tp=tp_price)\n",
    "        if self.signal == -1.0 and len(self.trades)<=self.trade_limit:\n",
    "            sl_price = self.data.Close[-1] + slatr\n",
    "            tp_price = self.data.Close[-1] - self.TPSL_rate * slatr\n",
    "            self.sell(sl=sl_price, tp=tp_price)\n",
    "\n",
    "bt = Backtest(df, XABCD_Strategy, cash=50000, commission=.00002, margin=.05)\n",
    "stat = bt.run()\n",
    "stat"
   ]
  },
  {
   "cell_type": "code",
   "execution_count": 10,
   "metadata": {},
   "outputs": [
    {
     "name": "stderr",
     "output_type": "stream",
     "text": [
      "C:\\Users\\hiban\\AppData\\Roaming\\Python\\Python310\\site-packages\\backtesting\\backtesting.py:1488: UserWarning: Searching for best of 5600 configurations.\n",
      "  output = _optimize_grid()\n"
     ]
    },
    {
     "data": {
      "application/vnd.jupyter.widget-view+json": {
       "model_id": "bd919f869c364090b20933112897afb4",
       "version_major": 2,
       "version_minor": 0
      },
      "text/plain": [
       "  0%|          | 0/19 [00:00<?, ?it/s]"
      ]
     },
     "metadata": {},
     "output_type": "display_data"
    },
    {
     "name": "stderr",
     "output_type": "stream",
     "text": [
      "C:\\Users\\hiban\\AppData\\Roaming\\Python\\Python310\\site-packages\\backtesting\\_stats.py:122: RuntimeWarning: divide by zero encountered in double_scalars\n",
      "  s.loc['Sortino Ratio'] = np.clip((annualized_return - risk_free_rate) / (np.sqrt(np.mean(day_returns.clip(-np.inf, 0)**2)) * np.sqrt(annual_trading_days)), 0, np.inf)  # noqa: E501\n"
     ]
    },
    {
     "ename": "RuntimeError",
     "evalue": "Indicator \"SIGNAL(DeepCrab)\" errored with exception: 'DeepCrab'",
     "output_type": "error",
     "traceback": [
      "\u001b[1;31m---------------------------------------------------------------------------\u001b[0m",
      "\u001b[1;31mKeyError\u001b[0m                                  Traceback (most recent call last)",
      "File \u001b[1;32m~\\AppData\\Roaming\\Python\\Python310\\site-packages\\backtesting\\backtesting.py:127\u001b[0m, in \u001b[0;36mStrategy.I\u001b[1;34m(self, func, name, plot, overlay, color, scatter, *args, **kwargs)\u001b[0m\n\u001b[0;32m    126\u001b[0m \u001b[39mtry\u001b[39;00m:\n\u001b[1;32m--> 127\u001b[0m     value \u001b[39m=\u001b[39m func(\u001b[39m*\u001b[39margs, \u001b[39m*\u001b[39m\u001b[39m*\u001b[39mkwargs)\n\u001b[0;32m    128\u001b[0m \u001b[39mexcept\u001b[39;00m \u001b[39mException\u001b[39;00m \u001b[39mas\u001b[39;00m e:\n",
      "\u001b[1;32mc:\\Users\\hiban\\Desktop\\code space\\fintech_studies\\strategy_switcher\\lab2.ipynb 儲存格 10\u001b[0m line \u001b[0;36m5\n\u001b[0;32m      <a href='vscode-notebook-cell:/c%3A/Users/hiban/Desktop/code%20space/fintech_studies/strategy_switcher/lab2.ipynb#X20sZmlsZQ%3D%3D?line=3'>4</a>\u001b[0m \u001b[39mdef\u001b[39;00m \u001b[39mSIGNAL\u001b[39m(df,col_name):\n\u001b[1;32m----> <a href='vscode-notebook-cell:/c%3A/Users/hiban/Desktop/code%20space/fintech_studies/strategy_switcher/lab2.ipynb#X20sZmlsZQ%3D%3D?line=4'>5</a>\u001b[0m     \u001b[39mreturn\u001b[39;00m df[col_name]\n",
      "File \u001b[1;32m~\\AppData\\Roaming\\Python\\Python310\\site-packages\\backtesting\\_util.py:119\u001b[0m, in \u001b[0;36m_Data.__getitem__\u001b[1;34m(self, item)\u001b[0m\n\u001b[0;32m    118\u001b[0m \u001b[39mdef\u001b[39;00m \u001b[39m__getitem__\u001b[39m(\u001b[39mself\u001b[39m, item):\n\u001b[1;32m--> 119\u001b[0m     \u001b[39mreturn\u001b[39;00m \u001b[39mself\u001b[39;49m\u001b[39m.\u001b[39;49m__get_array(item)\n",
      "File \u001b[1;32m~\\AppData\\Roaming\\Python\\Python310\\site-packages\\backtesting\\_util.py:163\u001b[0m, in \u001b[0;36m_Data.__get_array\u001b[1;34m(self, key)\u001b[0m\n\u001b[0;32m    162\u001b[0m \u001b[39mif\u001b[39;00m arr \u001b[39mis\u001b[39;00m \u001b[39mNone\u001b[39;00m:\n\u001b[1;32m--> 163\u001b[0m     arr \u001b[39m=\u001b[39m \u001b[39mself\u001b[39m\u001b[39m.\u001b[39m__cache[key] \u001b[39m=\u001b[39m cast(_Array, \u001b[39mself\u001b[39;49m\u001b[39m.\u001b[39;49m__arrays[key][:\u001b[39mself\u001b[39m\u001b[39m.\u001b[39m__i])\n\u001b[0;32m    164\u001b[0m \u001b[39mreturn\u001b[39;00m arr\n",
      "\u001b[1;31mKeyError\u001b[0m: 'DeepCrab'",
      "\nDuring handling of the above exception, another exception occurred:\n",
      "\u001b[1;31mRuntimeError\u001b[0m                              Traceback (most recent call last)",
      "File \u001b[1;32m<timed exec>:1\u001b[0m\n",
      "File \u001b[1;32m~\\AppData\\Roaming\\Python\\Python310\\site-packages\\backtesting\\backtesting.py:1488\u001b[0m, in \u001b[0;36mBacktest.optimize\u001b[1;34m(self, maximize, method, max_tries, constraint, return_heatmap, return_optimization, random_state, **kwargs)\u001b[0m\n\u001b[0;32m   1485\u001b[0m     \u001b[39mreturn\u001b[39;00m stats \u001b[39mif\u001b[39;00m \u001b[39mlen\u001b[39m(output) \u001b[39m==\u001b[39m \u001b[39m1\u001b[39m \u001b[39melse\u001b[39;00m \u001b[39mtuple\u001b[39m(output)\n\u001b[0;32m   1487\u001b[0m \u001b[39mif\u001b[39;00m method \u001b[39m==\u001b[39m \u001b[39m'\u001b[39m\u001b[39mgrid\u001b[39m\u001b[39m'\u001b[39m:\n\u001b[1;32m-> 1488\u001b[0m     output \u001b[39m=\u001b[39m _optimize_grid()\n\u001b[0;32m   1489\u001b[0m \u001b[39melif\u001b[39;00m method \u001b[39m==\u001b[39m \u001b[39m'\u001b[39m\u001b[39mskopt\u001b[39m\u001b[39m'\u001b[39m:\n\u001b[0;32m   1490\u001b[0m     output \u001b[39m=\u001b[39m _optimize_skopt()\n",
      "File \u001b[1;32m~\\AppData\\Roaming\\Python\\Python310\\site-packages\\backtesting\\backtesting.py:1378\u001b[0m, in \u001b[0;36mBacktest.optimize.<locals>._optimize_grid\u001b[1;34m()\u001b[0m\n\u001b[0;32m   1375\u001b[0m     warnings\u001b[39m.\u001b[39mwarn(\u001b[39m\"\u001b[39m\u001b[39mFor multiprocessing support in `Backtest.optimize()` \u001b[39m\u001b[39m\"\u001b[39m\n\u001b[0;32m   1376\u001b[0m                   \u001b[39m\"\u001b[39m\u001b[39mset multiprocessing start method to \u001b[39m\u001b[39m'\u001b[39m\u001b[39mfork\u001b[39m\u001b[39m'\u001b[39m\u001b[39m.\u001b[39m\u001b[39m\"\u001b[39m)\n\u001b[0;32m   1377\u001b[0m \u001b[39mfor\u001b[39;00m batch_index \u001b[39min\u001b[39;00m _tqdm(\u001b[39mrange\u001b[39m(\u001b[39mlen\u001b[39m(param_batches))):\n\u001b[1;32m-> 1378\u001b[0m     _, values \u001b[39m=\u001b[39m Backtest\u001b[39m.\u001b[39;49m_mp_task(backtest_uuid, batch_index)\n\u001b[0;32m   1379\u001b[0m     \u001b[39mfor\u001b[39;00m value, params \u001b[39min\u001b[39;00m \u001b[39mzip\u001b[39m(values, param_batches[batch_index]):\n\u001b[0;32m   1380\u001b[0m         heatmap[\u001b[39mtuple\u001b[39m(params\u001b[39m.\u001b[39mvalues())] \u001b[39m=\u001b[39m value\n",
      "File \u001b[1;32m~\\AppData\\Roaming\\Python\\Python310\\site-packages\\backtesting\\backtesting.py:1498\u001b[0m, in \u001b[0;36mBacktest._mp_task\u001b[1;34m(backtest_uuid, batch_index)\u001b[0m\n\u001b[0;32m   1495\u001b[0m \u001b[39m@staticmethod\u001b[39m\n\u001b[0;32m   1496\u001b[0m \u001b[39mdef\u001b[39;00m \u001b[39m_mp_task\u001b[39m(backtest_uuid, batch_index):\n\u001b[0;32m   1497\u001b[0m     bt, param_batches, maximize_func \u001b[39m=\u001b[39m Backtest\u001b[39m.\u001b[39m_mp_backtests[backtest_uuid]\n\u001b[1;32m-> 1498\u001b[0m     \u001b[39mreturn\u001b[39;00m batch_index, [maximize_func(stats) \u001b[39mif\u001b[39;00m stats[\u001b[39m'\u001b[39m\u001b[39m# Trades\u001b[39m\u001b[39m'\u001b[39m] \u001b[39melse\u001b[39;00m np\u001b[39m.\u001b[39mnan\n\u001b[0;32m   1499\u001b[0m                          \u001b[39mfor\u001b[39;00m stats \u001b[39min\u001b[39;00m (bt\u001b[39m.\u001b[39mrun(\u001b[39m*\u001b[39m\u001b[39m*\u001b[39mparams)\n\u001b[0;32m   1500\u001b[0m                                        \u001b[39mfor\u001b[39;00m params \u001b[39min\u001b[39;00m param_batches[batch_index])]\n",
      "File \u001b[1;32m~\\AppData\\Roaming\\Python\\Python310\\site-packages\\backtesting\\backtesting.py:1498\u001b[0m, in \u001b[0;36m<listcomp>\u001b[1;34m(.0)\u001b[0m\n\u001b[0;32m   1495\u001b[0m \u001b[39m@staticmethod\u001b[39m\n\u001b[0;32m   1496\u001b[0m \u001b[39mdef\u001b[39;00m \u001b[39m_mp_task\u001b[39m(backtest_uuid, batch_index):\n\u001b[0;32m   1497\u001b[0m     bt, param_batches, maximize_func \u001b[39m=\u001b[39m Backtest\u001b[39m.\u001b[39m_mp_backtests[backtest_uuid]\n\u001b[1;32m-> 1498\u001b[0m     \u001b[39mreturn\u001b[39;00m batch_index, [maximize_func(stats) \u001b[39mif\u001b[39;00m stats[\u001b[39m'\u001b[39m\u001b[39m# Trades\u001b[39m\u001b[39m'\u001b[39m] \u001b[39melse\u001b[39;00m np\u001b[39m.\u001b[39mnan\n\u001b[0;32m   1499\u001b[0m                          \u001b[39mfor\u001b[39;00m stats \u001b[39min\u001b[39;00m (bt\u001b[39m.\u001b[39mrun(\u001b[39m*\u001b[39m\u001b[39m*\u001b[39mparams)\n\u001b[0;32m   1500\u001b[0m                                        \u001b[39mfor\u001b[39;00m params \u001b[39min\u001b[39;00m param_batches[batch_index])]\n",
      "File \u001b[1;32m~\\AppData\\Roaming\\Python\\Python310\\site-packages\\backtesting\\backtesting.py:1499\u001b[0m, in \u001b[0;36m<genexpr>\u001b[1;34m(.0)\u001b[0m\n\u001b[0;32m   1495\u001b[0m \u001b[39m@staticmethod\u001b[39m\n\u001b[0;32m   1496\u001b[0m \u001b[39mdef\u001b[39;00m \u001b[39m_mp_task\u001b[39m(backtest_uuid, batch_index):\n\u001b[0;32m   1497\u001b[0m     bt, param_batches, maximize_func \u001b[39m=\u001b[39m Backtest\u001b[39m.\u001b[39m_mp_backtests[backtest_uuid]\n\u001b[0;32m   1498\u001b[0m     \u001b[39mreturn\u001b[39;00m batch_index, [maximize_func(stats) \u001b[39mif\u001b[39;00m stats[\u001b[39m'\u001b[39m\u001b[39m# Trades\u001b[39m\u001b[39m'\u001b[39m] \u001b[39melse\u001b[39;00m np\u001b[39m.\u001b[39mnan\n\u001b[1;32m-> 1499\u001b[0m                          \u001b[39mfor\u001b[39;00m stats \u001b[39min\u001b[39;00m (bt\u001b[39m.\u001b[39mrun(\u001b[39m*\u001b[39m\u001b[39m*\u001b[39mparams)\n\u001b[0;32m   1500\u001b[0m                                        \u001b[39mfor\u001b[39;00m params \u001b[39min\u001b[39;00m param_batches[batch_index])]\n",
      "File \u001b[1;32m~\\AppData\\Roaming\\Python\\Python310\\site-packages\\backtesting\\backtesting.py:1139\u001b[0m, in \u001b[0;36mBacktest.run\u001b[1;34m(self, **kwargs)\u001b[0m\n\u001b[0;32m   1136\u001b[0m broker: _Broker \u001b[39m=\u001b[39m \u001b[39mself\u001b[39m\u001b[39m.\u001b[39m_broker(data\u001b[39m=\u001b[39mdata)\n\u001b[0;32m   1137\u001b[0m strategy: Strategy \u001b[39m=\u001b[39m \u001b[39mself\u001b[39m\u001b[39m.\u001b[39m_strategy(broker, data, kwargs)\n\u001b[1;32m-> 1139\u001b[0m strategy\u001b[39m.\u001b[39;49minit()\n\u001b[0;32m   1140\u001b[0m data\u001b[39m.\u001b[39m_update()  \u001b[39m# Strategy.init might have changed/added to data.df\u001b[39;00m\n\u001b[0;32m   1142\u001b[0m \u001b[39m# Indicators used in Strategy.next()\u001b[39;00m\n",
      "\u001b[1;32mc:\\Users\\hiban\\Desktop\\code space\\fintech_studies\\strategy_switcher\\lab2.ipynb 儲存格 10\u001b[0m line \u001b[0;36m1\n\u001b[0;32m     <a href='vscode-notebook-cell:/c%3A/Users/hiban/Desktop/code%20space/fintech_studies/strategy_switcher/lab2.ipynb#X20sZmlsZQ%3D%3D?line=12'>13</a>\u001b[0m \u001b[39mdef\u001b[39;00m \u001b[39minit\u001b[39m(\u001b[39mself\u001b[39m):\n\u001b[0;32m     <a href='vscode-notebook-cell:/c%3A/Users/hiban/Desktop/code%20space/fintech_studies/strategy_switcher/lab2.ipynb#X20sZmlsZQ%3D%3D?line=13'>14</a>\u001b[0m     \u001b[39msuper\u001b[39m()\u001b[39m.\u001b[39minit()\n\u001b[1;32m---> <a href='vscode-notebook-cell:/c%3A/Users/hiban/Desktop/code%20space/fintech_studies/strategy_switcher/lab2.ipynb#X20sZmlsZQ%3D%3D?line=14'>15</a>\u001b[0m     \u001b[39mself\u001b[39m\u001b[39m.\u001b[39msignal \u001b[39m=\u001b[39m \u001b[39mself\u001b[39;49m\u001b[39m.\u001b[39;49mI(SIGNAL, \u001b[39mself\u001b[39;49m\u001b[39m.\u001b[39;49mdata, \u001b[39mself\u001b[39;49m\u001b[39m.\u001b[39;49mpattern_type)\n",
      "File \u001b[1;32m~\\AppData\\Roaming\\Python\\Python310\\site-packages\\backtesting\\backtesting.py:129\u001b[0m, in \u001b[0;36mStrategy.I\u001b[1;34m(self, func, name, plot, overlay, color, scatter, *args, **kwargs)\u001b[0m\n\u001b[0;32m    127\u001b[0m     value \u001b[39m=\u001b[39m func(\u001b[39m*\u001b[39margs, \u001b[39m*\u001b[39m\u001b[39m*\u001b[39mkwargs)\n\u001b[0;32m    128\u001b[0m \u001b[39mexcept\u001b[39;00m \u001b[39mException\u001b[39;00m \u001b[39mas\u001b[39;00m e:\n\u001b[1;32m--> 129\u001b[0m     \u001b[39mraise\u001b[39;00m \u001b[39mRuntimeError\u001b[39;00m(\u001b[39mf\u001b[39m\u001b[39m'\u001b[39m\u001b[39mIndicator \u001b[39m\u001b[39m\"\u001b[39m\u001b[39m{\u001b[39;00mname\u001b[39m}\u001b[39;00m\u001b[39m\"\u001b[39m\u001b[39m errored with exception: \u001b[39m\u001b[39m{\u001b[39;00me\u001b[39m}\u001b[39;00m\u001b[39m'\u001b[39m)\n\u001b[0;32m    131\u001b[0m \u001b[39mif\u001b[39;00m \u001b[39misinstance\u001b[39m(value, pd\u001b[39m.\u001b[39mDataFrame):\n\u001b[0;32m    132\u001b[0m     value \u001b[39m=\u001b[39m value\u001b[39m.\u001b[39mvalues\u001b[39m.\u001b[39mT\n",
      "\u001b[1;31mRuntimeError\u001b[0m: Indicator \"SIGNAL(DeepCrab)\" errored with exception: 'DeepCrab'"
     ]
    }
   ],
   "source": [
    "%%time\n",
    "stats = bt.optimize(atr_sl_rate = np.arange(0.5, 2.5, 0.1).tolist(),\n",
    "                    TPSL_rate = np.arange(0.5, 2.5, 0.1).tolist(),\n",
    "                    trade_limit = np.arange(0, 2, 1).tolist(),\n",
    "                    pattern_type = ['Gartley','Bat','Butterfly','Crab','Cypher','Shark'],\n",
    "                    maximize='Equity Final [$]')\n",
    "stats"
   ]
  },
  {
   "cell_type": "code",
   "execution_count": null,
   "metadata": {},
   "outputs": [
    {
     "data": {
      "text/plain": [
       "Index(['Start', 'End', 'Duration', 'Exposure Time [%]', 'Equity Final [$]',\n",
       "       'Equity Peak [$]', 'Return [%]', 'Buy & Hold Return [%]',\n",
       "       'Return (Ann.) [%]', 'Volatility (Ann.) [%]', 'Sharpe Ratio',\n",
       "       'Sortino Ratio', 'Calmar Ratio', 'Max. Drawdown [%]',\n",
       "       'Avg. Drawdown [%]', 'Max. Drawdown Duration', 'Avg. Drawdown Duration',\n",
       "       '# Trades', 'Win Rate [%]', 'Best Trade [%]', 'Worst Trade [%]',\n",
       "       'Avg. Trade [%]', 'Max. Trade Duration', 'Avg. Trade Duration',\n",
       "       'Profit Factor', 'Expectancy [%]', 'SQN', '_strategy', '_equity_curve',\n",
       "       '_trades'],\n",
       "      dtype='object')"
      ]
     },
     "execution_count": 11,
     "metadata": {},
     "output_type": "execute_result"
    }
   ],
   "source": [
    "stats.keys()"
   ]
  },
  {
   "cell_type": "code",
   "execution_count": null,
   "metadata": {},
   "outputs": [
    {
     "data": {
      "text/plain": [
       "<Strategy XABCD_Strategy(atr_sl_rate=0.6,TPSL_rate=1.4,trade_limit=0)>"
      ]
     },
     "execution_count": 12,
     "metadata": {},
     "output_type": "execute_result"
    }
   ],
   "source": [
    "stats._strategy"
   ]
  },
  {
   "cell_type": "code",
   "execution_count": null,
   "metadata": {},
   "outputs": [
    {
     "data": {
      "image/png": "[encoded data removed]",
      "text/plain": [
       "<Figure size 1600x1000 with 1 Axes>"
      ]
     },
     "metadata": {},
     "output_type": "display_data"
    }
   ],
   "source": [
    "import matplotlib.pyplot as plt\n",
    "\n",
    "#stats['_equity_curve']\n",
    "plt.figure(figsize=(16, 10))\n",
    "plt.plot(stats['_equity_curve']['Equity'])\n",
    "plt.show()"
   ]
  }
 ],
 "metadata": {
  "kernelspec": {
   "display_name": "Python 3",
   "language": "python",
   "name": "python3"
  },
  "language_info": {
   "codemirror_mode": {
    "name": "ipython",
    "version": 3
   },
   "file_extension": ".py",
   "mimetype": "text/x-python",
   "name": "python",
   "nbconvert_exporter": "python",
   "pygments_lexer": "ipython3",
   "version": "3.10.11"
  }
 },
 "nbformat": 4,
 "nbformat_minor": 2
}
