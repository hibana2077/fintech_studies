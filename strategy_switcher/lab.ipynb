{
 "cells": [
  {
   "cell_type": "code",
   "execution_count": 1,
   "metadata": {},
   "outputs": [],
   "source": [
    "from backtesting.test import SMA"
   ]
  },
  {
   "cell_type": "code",
   "execution_count": 2,
   "metadata": {},
   "outputs": [],
   "source": [
    "import pandas as pd\n",
    "import numpy as np\n",
    "import pandas_ta as ta\n",
    "from  torch.functional import F\n",
    "from backtesting.lib import SignalStrategy, TrailingStrategy\n",
    "\n",
    "def EMA(df:pd.Series, n:int, fillna:bool=True) -> np.ndarray:\n",
    "    \"\"\"\n",
    "    Exponential Moving Average\n",
    "    return: np.ndarray\n",
    "    \"\"\"\n",
    "    return ta.ema(pd.Series(df), length=n, fillna=fillna)\n",
    "\n",
    "def Zscore(df:pd.Series, n:int, fillna:bool=True) -> np.ndarray:\n",
    "    \"\"\"\n",
    "    Zscore\n",
    "    return: np.ndarray\n",
    "    \"\"\"\n",
    "    return ta.zscore(pd.Series(df), length=n, fillna=fillna)\n",
    "\n",
    "def Fake_neural_network(df:pd.Series, generate_params:list, input_params:list, fillna:bool=True) -> np.ndarray:\n",
    "    \"\"\"\n",
    "    Fake neural network\n",
    "    generate_params: list => [n1, n2, n3, n4, n5, n6, n7, n8, n9, n10]\n",
    "    input_params: list => [n1, n2, n3, n4, n5, n6, n7, n8, n9, n10]\n",
    "    return: np.ndarray\n",
    "    \"\"\"\n",
    "    \"\"\"\n",
    "    algorithm:\n",
    "        1. df * gp -> (df,1) * (1,gp) -> (df, gp)\n",
    "        2. (df, gp) * ip -> (df, gp) * (gp, ip) -> (df, ip)\n",
    "        3. (df, ip) * 1 -> (df, ip) * (ip, 1) -> (df, 1)\n",
    "        4. sigmod((df, 1)) -> (df, 1)\n",
    "    \"\"\"\n",
    "    df = pd.Series(df)\n",
    "    sigmod = lambda x: 1 / (1 + np.exp(-x))\n",
    "    gp = np.array(generate_params).reshape(1, -1)\n",
    "    print(gp.shape)\n",
    "    ip = np.array(input_params).reshape(-1, 1)\n",
    "    print(ip.shape)\n",
    "    df = df.values.reshape(-1, 1)\n",
    "    out = sigmod(np.matmul(np.matmul(df, gp), ip)).reshape(-1, 1)\n",
    "    print(out[:10])\n",
    "    #change to 1d array\n",
    "    return out.reshape(-1)\n",
    "    \n",
    "\n",
    "class SmaCross(SignalStrategy,\n",
    "               TrailingStrategy):\n",
    "    n1 = 10\n",
    "    n2 = 25\n",
    "    \n",
    "    def init(self):\n",
    "        # In init() and in next() it is important to call the\n",
    "        # super method to properly initialize the parent classes\n",
    "        super().init()\n",
    "        \n",
    "        # Precompute the two moving averages\n",
    "        sma1 = self.I(SMA, self.data.Close, self.n1)\n",
    "        sma2 = self.I(SMA, self.data.Close, self.n2)\n",
    "        \n",
    "        # Where sma1 crosses sma2 upwards. Diff gives us [-1,0, *1*]\n",
    "        signal = (pd.Series(sma1) > sma2).astype(int).diff().fillna(0)\n",
    "        signal = signal.replace(-1, 0)  # Upwards/long only\n",
    "\n",
    "        # Use 95% of available liquidity (at the time) on each order.\n",
    "        # (Leaving a value of 1. would instead buy a single share.)\n",
    "        entry_size = signal * .95\n",
    "                \n",
    "        # Set order entry sizes using the method provided by \n",
    "        # `SignalStrategy`. See the docs.\n",
    "        self.set_signal(entry_size=entry_size)\n",
    "        \n",
    "        # Set trailing stop-loss to 2x ATR using\n",
    "        # the method provided by `TrailingStrategy`\n",
    "        self.set_trailing_sl(2)\n",
    "\n",
    "class EmaCross_with_Zscore(SignalStrategy,\n",
    "               TrailingStrategy):\n",
    "    n1 = 10\n",
    "    n2 = 25\n",
    "    z_n = 10\n",
    "    trailing_stop = 2\n",
    "    \n",
    "    def init(self):\n",
    "        # In init() and in next() it is important to call the\n",
    "        # super method to properly initialize the parent classes\n",
    "        super().init()\n",
    "        \n",
    "        # Precompute the two moving averages\n",
    "        ema1 = self.I(EMA, self.data.Close, self.n1)\n",
    "        ema2 = self.I(EMA, self.data.Close, self.n2)\n",
    "        zscore = self.I(Zscore, self.data.Close, self.z_n)\n",
    "        \n",
    "        # Where sma1 crosses sma2 upwards. Diff gives us [-1,0, *1*]\n",
    "        signal = ((pd.Series(ema1) > ema2) & (pd.Series(zscore) > 0)).astype(int).diff().fillna(0)\n",
    "        signal = signal.replace(-1, 0)\n",
    "\n",
    "        # Use 95% of available liquidity (at the time) on each order.\n",
    "        # (Leaving a value of 1. would instead buy a single share.)\n",
    "        entry_size = signal * .95\n",
    "                \n",
    "        # Set order entry sizes using the method provided by \n",
    "        # `SignalStrategy`. See the docs.\n",
    "        self.set_signal(entry_size=entry_size)\n",
    "        \n",
    "        # Set trailing stop-loss to 2x ATR using\n",
    "        # the method provided by `TrailingStrategy`\n",
    "        self.set_trailing_sl(self.trailing_stop)"
   ]
  },
  {
   "cell_type": "code",
   "execution_count": 3,
   "metadata": {},
   "outputs": [],
   "source": [
    "data = pd.read_csv('./data/BTCUSDT_15m.csv', index_col='time', parse_dates=True)"
   ]
  },
  {
   "cell_type": "code",
   "execution_count": 4,
   "metadata": {},
   "outputs": [],
   "source": [
    "#rename columns\n",
    "data.rename(columns={'open': 'Open', 'high': 'High', 'low': 'Low', 'close': 'Close', 'volume': 'Volume'}, inplace=True)"
   ]
  },
  {
   "cell_type": "code",
   "execution_count": 5,
   "metadata": {},
   "outputs": [
    {
     "data": {
      "text/html": [
       "<div>\n",
       "<style scoped>\n",
       "    .dataframe tbody tr th:only-of-type {\n",
       "        vertical-align: middle;\n",
       "    }\n",
       "\n",
       "    .dataframe tbody tr th {\n",
       "        vertical-align: top;\n",
       "    }\n",
       "\n",
       "    .dataframe thead th {\n",
       "        text-align: right;\n",
       "    }\n",
       "</style>\n",
       "<table border=\"1\" class=\"dataframe\">\n",
       "  <thead>\n",
       "    <tr style=\"text-align: right;\">\n",
       "      <th></th>\n",
       "      <th>Open</th>\n",
       "      <th>High</th>\n",
       "      <th>Low</th>\n",
       "      <th>Close</th>\n",
       "      <th>Volume</th>\n",
       "    </tr>\n",
       "    <tr>\n",
       "      <th>time</th>\n",
       "      <th></th>\n",
       "      <th></th>\n",
       "      <th></th>\n",
       "      <th></th>\n",
       "      <th></th>\n",
       "    </tr>\n",
       "  </thead>\n",
       "  <tbody>\n",
       "    <tr>\n",
       "      <th>2023-05-01 00:00:00</th>\n",
       "      <td>29223.0</td>\n",
       "      <td>29313.2</td>\n",
       "      <td>29198.2</td>\n",
       "      <td>29280.8</td>\n",
       "      <td>8574.387</td>\n",
       "    </tr>\n",
       "    <tr>\n",
       "      <th>2023-05-01 00:15:00</th>\n",
       "      <td>29280.7</td>\n",
       "      <td>29305.0</td>\n",
       "      <td>29252.1</td>\n",
       "      <td>29289.9</td>\n",
       "      <td>3585.558</td>\n",
       "    </tr>\n",
       "    <tr>\n",
       "      <th>2023-05-01 00:30:00</th>\n",
       "      <td>29290.0</td>\n",
       "      <td>29297.5</td>\n",
       "      <td>29268.2</td>\n",
       "      <td>29292.0</td>\n",
       "      <td>2365.554</td>\n",
       "    </tr>\n",
       "    <tr>\n",
       "      <th>2023-05-01 00:45:00</th>\n",
       "      <td>29292.0</td>\n",
       "      <td>29325.5</td>\n",
       "      <td>29271.3</td>\n",
       "      <td>29303.3</td>\n",
       "      <td>2200.431</td>\n",
       "    </tr>\n",
       "    <tr>\n",
       "      <th>2023-05-01 01:00:00</th>\n",
       "      <td>29303.3</td>\n",
       "      <td>29303.3</td>\n",
       "      <td>29226.0</td>\n",
       "      <td>29245.8</td>\n",
       "      <td>2160.645</td>\n",
       "    </tr>\n",
       "  </tbody>\n",
       "</table>\n",
       "</div>"
      ],
      "text/plain": [
       "                        Open     High      Low    Close    Volume\n",
       "time                                                             \n",
       "2023-05-01 00:00:00  29223.0  29313.2  29198.2  29280.8  8574.387\n",
       "2023-05-01 00:15:00  29280.7  29305.0  29252.1  29289.9  3585.558\n",
       "2023-05-01 00:30:00  29290.0  29297.5  29268.2  29292.0  2365.554\n",
       "2023-05-01 00:45:00  29292.0  29325.5  29271.3  29303.3  2200.431\n",
       "2023-05-01 01:00:00  29303.3  29303.3  29226.0  29245.8  2160.645"
      ]
     },
     "execution_count": 5,
     "metadata": {},
     "output_type": "execute_result"
    }
   ],
   "source": [
    "data.head()"
   ]
  },
  {
   "cell_type": "code",
   "execution_count": 6,
   "metadata": {},
   "outputs": [
    {
     "data": {
      "text/plain": [
       "Open      float64\n",
       "High      float64\n",
       "Low       float64\n",
       "Close     float64\n",
       "Volume    float64\n",
       "dtype: object"
      ]
     },
     "execution_count": 6,
     "metadata": {},
     "output_type": "execute_result"
    }
   ],
   "source": [
    "data.dtypes"
   ]
  },
  {
   "cell_type": "code",
   "execution_count": 7,
   "metadata": {},
   "outputs": [
    {
     "data": {
      "text/plain": [
       "Start                     2023-05-01 00:00:00\n",
       "End                       2023-10-19 07:30:00\n",
       "Duration                    171 days 07:30:00\n",
       "Exposure Time [%]                   47.741229\n",
       "Equity Final [$]                   54809.8878\n",
       "Equity Peak [$]                   100043.8378\n",
       "Return [%]                         -45.190112\n",
       "Buy & Hold Return [%]               -3.339731\n",
       "Return (Ann.) [%]                  -71.706729\n",
       "Volatility (Ann.) [%]                5.098673\n",
       "Sharpe Ratio                              0.0\n",
       "Sortino Ratio                             0.0\n",
       "Calmar Ratio                              0.0\n",
       "Max. Drawdown [%]                   -46.01698\n",
       "Avg. Drawdown [%]                   -46.01698\n",
       "Max. Drawdown Duration      171 days 02:30:00\n",
       "Avg. Drawdown Duration      171 days 02:30:00\n",
       "# Trades                                  444\n",
       "Win Rate [%]                        22.747748\n",
       "Best Trade [%]                       5.306969\n",
       "Worst Trade [%]                     -1.416536\n",
       "Avg. Trade [%]                      -0.170987\n",
       "Max. Trade Duration           1 days 02:45:00\n",
       "Avg. Trade Duration           0 days 04:22:00\n",
       "Profit Factor                        0.534136\n",
       "Expectancy [%]                      -0.167888\n",
       "SQN                                 -4.736476\n",
       "_strategy                 EmaCross_with_Zs...\n",
       "_equity_curve                             ...\n",
       "_trades                        Size  Entry...\n",
       "dtype: object"
      ]
     },
     "execution_count": 7,
     "metadata": {},
     "output_type": "execute_result"
    }
   ],
   "source": [
    "from backtesting import Backtest\n",
    "\n",
    "bt = Backtest(data, EmaCross_with_Zscore,\n",
    "              commission=.002,cash=100000)\n",
    "\n",
    "bt.run()\n"
   ]
  },
  {
   "cell_type": "code",
   "execution_count": 8,
   "metadata": {},
   "outputs": [
    {
     "name": "stderr",
     "output_type": "stream",
     "text": [
      "UsageError: %%time is a cell magic, but the cell body is empty. Did you mean the line magic %time (single %)?\n"
     ]
    }
   ],
   "source": [
    "%%time\n"
   ]
  },
  {
   "cell_type": "code",
   "execution_count": 9,
   "metadata": {},
   "outputs": [
    {
     "name": "stderr",
     "output_type": "stream",
     "text": [
      "C:\\Users\\hiban\\AppData\\Roaming\\Python\\Python310\\site-packages\\backtesting\\backtesting.py:1488: UserWarning: Searching for best of 2250 configurations.\n",
      "  output = _optimize_grid()\n"
     ]
    },
    {
     "data": {
      "application/vnd.jupyter.widget-view+json": {
       "model_id": "2c88511af75c446593ae6e55d3db0ac2",
       "version_major": 2,
       "version_minor": 0
      },
      "text/plain": [
       "  0%|          | 0/13 [00:00<?, ?it/s]"
      ]
     },
     "metadata": {},
     "output_type": "display_data"
    },
    {
     "name": "stdout",
     "output_type": "stream",
     "text": [
      "CPU times: total: 6min 19s\n",
      "Wall time: 7min 10s\n"
     ]
    },
    {
     "data": {
      "text/plain": [
       "Start                     2023-05-01 00:00:00\n",
       "End                       2023-10-19 07:30:00\n",
       "Duration                    171 days 07:30:00\n",
       "Exposure Time [%]                   30.504043\n",
       "Equity Final [$]                   63731.5532\n",
       "Equity Peak [$]                      100000.0\n",
       "Return [%]                         -36.268447\n",
       "Buy & Hold Return [%]               -3.339731\n",
       "Return (Ann.) [%]                  -61.556577\n",
       "Volatility (Ann.) [%]                7.159895\n",
       "Sharpe Ratio                              0.0\n",
       "Sortino Ratio                             0.0\n",
       "Calmar Ratio                              0.0\n",
       "Max. Drawdown [%]                   -39.13557\n",
       "Avg. Drawdown [%]                   -39.13557\n",
       "Max. Drawdown Duration      169 days 19:00:00\n",
       "Avg. Drawdown Duration      169 days 19:00:00\n",
       "# Trades                                  341\n",
       "Win Rate [%]                        21.994135\n",
       "Best Trade [%]                       5.369013\n",
       "Worst Trade [%]                     -1.264658\n",
       "Avg. Trade [%]                      -0.167803\n",
       "Max. Trade Duration           0 days 18:45:00\n",
       "Avg. Trade Duration           0 days 03:29:00\n",
       "Profit Factor                        0.505658\n",
       "Expectancy [%]                      -0.165161\n",
       "SQN                                 -4.346629\n",
       "_strategy                 EmaCross_with_Zs...\n",
       "_equity_curve                             ...\n",
       "_trades                        Size  Entry...\n",
       "dtype: object"
      ]
     },
     "execution_count": 9,
     "metadata": {},
     "output_type": "execute_result"
    }
   ],
   "source": [
    "%%time\n",
    "stats = bt.optimize(n1=range(5, 30, 5),\n",
    "                    n2=range(10, 70, 5),\n",
    "                    z_n=range(5, 30, 5),\n",
    "                    trailing_stop=np.arange(0.2, 2.2, 0.2).tolist(),\n",
    "                    maximize='Equity Final [$]',\n",
    "                    constraint=lambda param: param.n1 < param.n2)\n",
    "stats"
   ]
  },
  {
   "cell_type": "code",
   "execution_count": 10,
   "metadata": {},
   "outputs": [
    {
     "data": {
      "text/html": [
       "<div>\n",
       "<style scoped>\n",
       "    .dataframe tbody tr th:only-of-type {\n",
       "        vertical-align: middle;\n",
       "    }\n",
       "\n",
       "    .dataframe tbody tr th {\n",
       "        vertical-align: top;\n",
       "    }\n",
       "\n",
       "    .dataframe thead th {\n",
       "        text-align: right;\n",
       "    }\n",
       "</style>\n",
       "<table border=\"1\" class=\"dataframe\">\n",
       "  <thead>\n",
       "    <tr style=\"text-align: right;\">\n",
       "      <th></th>\n",
       "      <th>Equity</th>\n",
       "      <th>DrawdownPct</th>\n",
       "      <th>DrawdownDuration</th>\n",
       "    </tr>\n",
       "    <tr>\n",
       "      <th>time</th>\n",
       "      <th></th>\n",
       "      <th></th>\n",
       "      <th></th>\n",
       "    </tr>\n",
       "  </thead>\n",
       "  <tbody>\n",
       "    <tr>\n",
       "      <th>2023-05-01 00:00:00</th>\n",
       "      <td>100000.0000</td>\n",
       "      <td>0.000000</td>\n",
       "      <td>NaT</td>\n",
       "    </tr>\n",
       "    <tr>\n",
       "      <th>2023-05-01 00:15:00</th>\n",
       "      <td>100000.0000</td>\n",
       "      <td>0.000000</td>\n",
       "      <td>NaT</td>\n",
       "    </tr>\n",
       "    <tr>\n",
       "      <th>2023-05-01 00:30:00</th>\n",
       "      <td>100000.0000</td>\n",
       "      <td>0.000000</td>\n",
       "      <td>NaT</td>\n",
       "    </tr>\n",
       "    <tr>\n",
       "      <th>2023-05-01 00:45:00</th>\n",
       "      <td>100000.0000</td>\n",
       "      <td>0.000000</td>\n",
       "      <td>NaT</td>\n",
       "    </tr>\n",
       "    <tr>\n",
       "      <th>2023-05-01 01:00:00</th>\n",
       "      <td>100000.0000</td>\n",
       "      <td>0.000000</td>\n",
       "      <td>NaT</td>\n",
       "    </tr>\n",
       "    <tr>\n",
       "      <th>...</th>\n",
       "      <td>...</td>\n",
       "      <td>...</td>\n",
       "      <td>...</td>\n",
       "    </tr>\n",
       "    <tr>\n",
       "      <th>2023-10-19 06:30:00</th>\n",
       "      <td>63828.9532</td>\n",
       "      <td>0.361710</td>\n",
       "      <td>NaT</td>\n",
       "    </tr>\n",
       "    <tr>\n",
       "      <th>2023-10-19 06:45:00</th>\n",
       "      <td>63792.3532</td>\n",
       "      <td>0.362076</td>\n",
       "      <td>NaT</td>\n",
       "    </tr>\n",
       "    <tr>\n",
       "      <th>2023-10-19 07:00:00</th>\n",
       "      <td>63740.3532</td>\n",
       "      <td>0.362596</td>\n",
       "      <td>NaT</td>\n",
       "    </tr>\n",
       "    <tr>\n",
       "      <th>2023-10-19 07:15:00</th>\n",
       "      <td>63731.5532</td>\n",
       "      <td>0.362684</td>\n",
       "      <td>NaT</td>\n",
       "    </tr>\n",
       "    <tr>\n",
       "      <th>2023-10-19 07:30:00</th>\n",
       "      <td>63731.5532</td>\n",
       "      <td>0.362684</td>\n",
       "      <td>169 days 19:00:00</td>\n",
       "    </tr>\n",
       "  </tbody>\n",
       "</table>\n",
       "<p>16447 rows × 3 columns</p>\n",
       "</div>"
      ],
      "text/plain": [
       "                          Equity  DrawdownPct  DrawdownDuration\n",
       "time                                                           \n",
       "2023-05-01 00:00:00  100000.0000     0.000000               NaT\n",
       "2023-05-01 00:15:00  100000.0000     0.000000               NaT\n",
       "2023-05-01 00:30:00  100000.0000     0.000000               NaT\n",
       "2023-05-01 00:45:00  100000.0000     0.000000               NaT\n",
       "2023-05-01 01:00:00  100000.0000     0.000000               NaT\n",
       "...                          ...          ...               ...\n",
       "2023-10-19 06:30:00   63828.9532     0.361710               NaT\n",
       "2023-10-19 06:45:00   63792.3532     0.362076               NaT\n",
       "2023-10-19 07:00:00   63740.3532     0.362596               NaT\n",
       "2023-10-19 07:15:00   63731.5532     0.362684               NaT\n",
       "2023-10-19 07:30:00   63731.5532     0.362684 169 days 19:00:00\n",
       "\n",
       "[16447 rows x 3 columns]"
      ]
     },
     "execution_count": 10,
     "metadata": {},
     "output_type": "execute_result"
    }
   ],
   "source": [
    "stats['_equity_curve']"
   ]
  },
  {
   "cell_type": "code",
   "execution_count": 11,
   "metadata": {},
   "outputs": [
    {
     "data": {
      "image/png": "[encoded data removed]",
      "text/plain": [
       "<Figure size 1600x1000 with 1 Axes>"
      ]
     },
     "metadata": {},
     "output_type": "display_data"
    }
   ],
   "source": [
    "import matplotlib.pyplot as plt\n",
    "\n",
    "#stats['_equity_curve']\n",
    "plt.figure(figsize=(16, 10))\n",
    "plt.plot(stats['_equity_curve']['Equity'])\n",
    "plt.show()"
   ]
  }
 ],
 "metadata": {
  "kernelspec": {
   "display_name": "Python 3",
   "language": "python",
   "name": "python3"
  },
  "language_info": {
   "codemirror_mode": {
    "name": "ipython",
    "version": 3
   },
   "file_extension": ".py",
   "mimetype": "text/x-python",
   "name": "python",
   "nbconvert_exporter": "python",
   "pygments_lexer": "ipython3",
   "version": "3.10.11"
  }
 },
 "nbformat": 4,
 "nbformat_minor": 2
}
