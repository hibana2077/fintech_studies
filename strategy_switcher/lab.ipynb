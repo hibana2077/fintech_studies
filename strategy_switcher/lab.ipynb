{
 "cells": [
  {
   "cell_type": "code",
   "execution_count": 1,
   "metadata": {},
   "outputs": [],
   "source": [
    "from backtesting.test import SMA"
   ]
  },
  {
   "cell_type": "code",
   "execution_count": 2,
   "metadata": {},
   "outputs": [],
   "source": [
    "import pandas as pd\n",
    "import numpy as np\n",
    "import pandas_ta as ta\n",
    "from backtesting.lib import SignalStrategy, TrailingStrategy\n",
    "\n",
    "def EMA(df:pd.Series, n:int, fillna:bool=True) -> np.ndarray:\n",
    "    \"\"\"\n",
    "    Exponential Moving Average\n",
    "    return: np.ndarray\n",
    "    \"\"\"\n",
    "    return ta.ema(pd.Series(df), length=n, fillna=fillna)\n",
    "\n",
    "def Zscore(df:pd.Series, n:int, fillna:bool=True) -> np.ndarray:\n",
    "    \"\"\"\n",
    "    Zscore\n",
    "    return: np.ndarray\n",
    "    \"\"\"\n",
    "    return ta.zscore(pd.Series(df), length=n, fillna=fillna)\n",
    "\n",
    "class SmaCross(SignalStrategy,\n",
    "               TrailingStrategy):\n",
    "    n1 = 10\n",
    "    n2 = 25\n",
    "    \n",
    "    def init(self):\n",
    "        # In init() and in next() it is important to call the\n",
    "        # super method to properly initialize the parent classes\n",
    "        super().init()\n",
    "        \n",
    "        # Precompute the two moving averages\n",
    "        sma1 = self.I(SMA, self.data.Close, self.n1)\n",
    "        sma2 = self.I(SMA, self.data.Close, self.n2)\n",
    "        \n",
    "        # Where sma1 crosses sma2 upwards. Diff gives us [-1,0, *1*]\n",
    "        signal = (pd.Series(sma1) > sma2).astype(int).diff().fillna(0)\n",
    "        signal = signal.replace(-1, 0)  # Upwards/long only\n",
    "\n",
    "        # Use 95% of available liquidity (at the time) on each order.\n",
    "        # (Leaving a value of 1. would instead buy a single share.)\n",
    "        entry_size = signal * .95\n",
    "                \n",
    "        # Set order entry sizes using the method provided by \n",
    "        # `SignalStrategy`. See the docs.\n",
    "        self.set_signal(entry_size=entry_size)\n",
    "        \n",
    "        # Set trailing stop-loss to 2x ATR using\n",
    "        # the method provided by `TrailingStrategy`\n",
    "        self.set_trailing_sl(2)\n",
    "\n",
    "class EmaCross_with_Zscore(SignalStrategy,\n",
    "               TrailingStrategy):\n",
    "    n1 = 10\n",
    "    n2 = 25\n",
    "    z_n = 10\n",
    "    trailing_stop = 2\n",
    "    \n",
    "    def init(self):\n",
    "        # In init() and in next() it is important to call the\n",
    "        # super method to properly initialize the parent classes\n",
    "        super().init()\n",
    "        \n",
    "        # Precompute the two moving averages\n",
    "        ema1 = self.I(EMA, self.data.Close, self.n1)\n",
    "        ema2 = self.I(EMA, self.data.Close, self.n2)\n",
    "        zscore = self.I(Zscore, self.data.Close, self.z_n)\n",
    "        \n",
    "        # Where sma1 crosses sma2 upwards. Diff gives us [-1,0, *1*]\n",
    "        signal = ((pd.Series(ema1) > ema2) & (pd.Series(zscore) > 0)).astype(int).diff().fillna(0)\n",
    "        signal = signal.replace(-1, 0)\n",
    "\n",
    "        # Use 95% of available liquidity (at the time) on each order.\n",
    "        # (Leaving a value of 1. would instead buy a single share.)\n",
    "        entry_size = signal * .95\n",
    "                \n",
    "        # Set order entry sizes using the method provided by \n",
    "        # `SignalStrategy`. See the docs.\n",
    "        self.set_signal(entry_size=entry_size)\n",
    "        \n",
    "        # Set trailing stop-loss to 2x ATR using\n",
    "        # the method provided by `TrailingStrategy`\n",
    "        self.set_trailing_sl(self.trailing_stop)"
   ]
  },
  {
   "cell_type": "code",
   "execution_count": 3,
   "metadata": {},
   "outputs": [],
   "source": [
    "data = pd.read_csv('./data/BTCUSDT_1h.csv', index_col='time', parse_dates=True)"
   ]
  },
  {
   "cell_type": "code",
   "execution_count": 4,
   "metadata": {},
   "outputs": [],
   "source": [
    "#rename columns\n",
    "data.rename(columns={'open': 'Open', 'high': 'High', 'low': 'Low', 'close': 'Close', 'volume': 'Volume'}, inplace=True)"
   ]
  },
  {
   "cell_type": "code",
   "execution_count": 5,
   "metadata": {},
   "outputs": [
    {
     "data": {
      "text/html": [
       "<div>\n",
       "<style scoped>\n",
       "    .dataframe tbody tr th:only-of-type {\n",
       "        vertical-align: middle;\n",
       "    }\n",
       "\n",
       "    .dataframe tbody tr th {\n",
       "        vertical-align: top;\n",
       "    }\n",
       "\n",
       "    .dataframe thead th {\n",
       "        text-align: right;\n",
       "    }\n",
       "</style>\n",
       "<table border=\"1\" class=\"dataframe\">\n",
       "  <thead>\n",
       "    <tr style=\"text-align: right;\">\n",
       "      <th></th>\n",
       "      <th>Open</th>\n",
       "      <th>High</th>\n",
       "      <th>Low</th>\n",
       "      <th>Close</th>\n",
       "      <th>Volume</th>\n",
       "    </tr>\n",
       "    <tr>\n",
       "      <th>time</th>\n",
       "      <th></th>\n",
       "      <th></th>\n",
       "      <th></th>\n",
       "      <th></th>\n",
       "      <th></th>\n",
       "    </tr>\n",
       "  </thead>\n",
       "  <tbody>\n",
       "    <tr>\n",
       "      <th>2020-01-01 00:00:00</th>\n",
       "      <td>7189.43</td>\n",
       "      <td>7190.52</td>\n",
       "      <td>7170.15</td>\n",
       "      <td>7171.55</td>\n",
       "      <td>2449.049</td>\n",
       "    </tr>\n",
       "    <tr>\n",
       "      <th>2020-01-01 01:00:00</th>\n",
       "      <td>7171.43</td>\n",
       "      <td>7225.00</td>\n",
       "      <td>7171.10</td>\n",
       "      <td>7210.24</td>\n",
       "      <td>3865.038</td>\n",
       "    </tr>\n",
       "    <tr>\n",
       "      <th>2020-01-01 02:00:00</th>\n",
       "      <td>7210.38</td>\n",
       "      <td>7239.30</td>\n",
       "      <td>7206.46</td>\n",
       "      <td>7237.99</td>\n",
       "      <td>3228.365</td>\n",
       "    </tr>\n",
       "    <tr>\n",
       "      <th>2020-01-01 03:00:00</th>\n",
       "      <td>7237.41</td>\n",
       "      <td>7239.74</td>\n",
       "      <td>7215.00</td>\n",
       "      <td>7221.65</td>\n",
       "      <td>2513.307</td>\n",
       "    </tr>\n",
       "    <tr>\n",
       "      <th>2020-01-01 04:00:00</th>\n",
       "      <td>7221.80</td>\n",
       "      <td>7225.41</td>\n",
       "      <td>7211.22</td>\n",
       "      <td>7213.86</td>\n",
       "      <td>1176.666</td>\n",
       "    </tr>\n",
       "  </tbody>\n",
       "</table>\n",
       "</div>"
      ],
      "text/plain": [
       "                        Open     High      Low    Close    Volume\n",
       "time                                                             \n",
       "2020-01-01 00:00:00  7189.43  7190.52  7170.15  7171.55  2449.049\n",
       "2020-01-01 01:00:00  7171.43  7225.00  7171.10  7210.24  3865.038\n",
       "2020-01-01 02:00:00  7210.38  7239.30  7206.46  7237.99  3228.365\n",
       "2020-01-01 03:00:00  7237.41  7239.74  7215.00  7221.65  2513.307\n",
       "2020-01-01 04:00:00  7221.80  7225.41  7211.22  7213.86  1176.666"
      ]
     },
     "execution_count": 5,
     "metadata": {},
     "output_type": "execute_result"
    }
   ],
   "source": [
    "data.head()"
   ]
  },
  {
   "cell_type": "code",
   "execution_count": 6,
   "metadata": {},
   "outputs": [
    {
     "data": {
      "text/plain": [
       "Open      float64\n",
       "High      float64\n",
       "Low       float64\n",
       "Close     float64\n",
       "Volume    float64\n",
       "dtype: object"
      ]
     },
     "execution_count": 6,
     "metadata": {},
     "output_type": "execute_result"
    }
   ],
   "source": [
    "data.dtypes"
   ]
  },
  {
   "cell_type": "code",
   "execution_count": 7,
   "metadata": {},
   "outputs": [
    {
     "data": {
      "text/plain": [
       "Start                     2020-01-01 00:00:00\n",
       "End                       2023-01-09 03:00:00\n",
       "Duration                   1104 days 03:00:00\n",
       "Exposure Time [%]                    45.69434\n",
       "Equity Final [$]                  32051.44404\n",
       "Equity Peak [$]                  110738.37874\n",
       "Return [%]                         -67.948556\n",
       "Buy & Hold Return [%]              139.670643\n",
       "Return (Ann.) [%]                  -31.329029\n",
       "Volatility (Ann.) [%]                26.39802\n",
       "Sharpe Ratio                              0.0\n",
       "Sortino Ratio                             0.0\n",
       "Calmar Ratio                              0.0\n",
       "Max. Drawdown [%]                  -71.267645\n",
       "Avg. Drawdown [%]                  -10.886869\n",
       "Max. Drawdown Duration     1076 days 04:00:00\n",
       "Avg. Drawdown Duration      137 days 17:00:00\n",
       "# Trades                                  695\n",
       "Win Rate [%]                         33.81295\n",
       "Best Trade [%]                      21.806842\n",
       "Worst Trade [%]                    -18.987593\n",
       "Avg. Trade [%]                       -0.22451\n",
       "Max. Trade Duration           3 days 09:00:00\n",
       "Avg. Trade Duration           0 days 19:00:00\n",
       "Profit Factor                        0.844671\n",
       "Expectancy [%]                      -0.178746\n",
       "SQN                                 -1.551669\n",
       "_strategy                 EmaCross_with_Zs...\n",
       "_equity_curve                             ...\n",
       "_trades                        Size  Entry...\n",
       "dtype: object"
      ]
     },
     "execution_count": 7,
     "metadata": {},
     "output_type": "execute_result"
    }
   ],
   "source": [
    "from backtesting import Backtest\n",
    "\n",
    "bt = Backtest(data, EmaCross_with_Zscore, commission=.002,cash=100000)\n",
    "\n",
    "bt.run()\n"
   ]
  },
  {
   "cell_type": "code",
   "execution_count": 8,
   "metadata": {},
   "outputs": [
    {
     "name": "stderr",
     "output_type": "stream",
     "text": [
      "C:\\Users\\hiban\\AppData\\Roaming\\Python\\Python310\\site-packages\\backtesting\\backtesting.py:1488: UserWarning: Searching for best of 2250 configurations.\n",
      "  output = _optimize_grid()\n"
     ]
    },
    {
     "data": {
      "application/vnd.jupyter.widget-view+json": {
       "model_id": "22ff2352a9b74400aae584b4a52d1734",
       "version_major": 2,
       "version_minor": 0
      },
      "text/plain": [
       "  0%|          | 0/13 [00:00<?, ?it/s]"
      ]
     },
     "metadata": {},
     "output_type": "display_data"
    },
    {
     "name": "stdout",
     "output_type": "stream",
     "text": [
      "CPU times: total: 9min 38s\n",
      "Wall time: 15min 20s\n"
     ]
    },
    {
     "data": {
      "text/plain": [
       "Start                     2020-01-01 00:00:00\n",
       "End                       2023-01-09 03:00:00\n",
       "Duration                   1104 days 03:00:00\n",
       "Exposure Time [%]                   65.886792\n",
       "Equity Final [$]                 516033.14622\n",
       "Equity Peak [$]                   910687.3237\n",
       "Return [%]                         416.033146\n",
       "Buy & Hold Return [%]              139.670643\n",
       "Return (Ann.) [%]                   71.952836\n",
       "Volatility (Ann.) [%]               92.408509\n",
       "Sharpe Ratio                         0.778639\n",
       "Sortino Ratio                        2.432363\n",
       "Calmar Ratio                         1.579648\n",
       "Max. Drawdown [%]                  -45.549927\n",
       "Avg. Drawdown [%]                    -3.13296\n",
       "Max. Drawdown Duration      445 days 12:00:00\n",
       "Avg. Drawdown Duration        6 days 12:00:00\n",
       "# Trades                                  249\n",
       "Win Rate [%]                        46.586345\n",
       "Best Trade [%]                      34.221736\n",
       "Worst Trade [%]                    -12.566866\n",
       "Avg. Trade [%]                       1.149554\n",
       "Max. Trade Duration          15 days 08:00:00\n",
       "Avg. Trade Duration           5 days 01:00:00\n",
       "Profit Factor                        1.710642\n",
       "Expectancy [%]                       1.402497\n",
       "SQN                                  1.072951\n",
       "_strategy                 EmaCross_with_Zs...\n",
       "_equity_curve                             ...\n",
       "_trades                        Size  Entry...\n",
       "dtype: object"
      ]
     },
     "execution_count": 8,
     "metadata": {},
     "output_type": "execute_result"
    }
   ],
   "source": [
    "%%time\n",
    "\n",
    "stats = bt.optimize(n1=range(5, 30, 5),\n",
    "                    n2=range(10, 70, 5),\n",
    "                    z_n=range(5, 30, 5),\n",
    "                    trailing_stop=range(1, 10, 1),\n",
    "                    maximize='Equity Final [$]',\n",
    "                    constraint=lambda param: param.n1 < param.n2)\n",
    "stats"
   ]
  },
  {
   "cell_type": "code",
   "execution_count": 9,
   "metadata": {},
   "outputs": [
    {
     "data": {
      "text/html": [
       "<div>\n",
       "<style scoped>\n",
       "    .dataframe tbody tr th:only-of-type {\n",
       "        vertical-align: middle;\n",
       "    }\n",
       "\n",
       "    .dataframe tbody tr th {\n",
       "        vertical-align: top;\n",
       "    }\n",
       "\n",
       "    .dataframe thead th {\n",
       "        text-align: right;\n",
       "    }\n",
       "</style>\n",
       "<table border=\"1\" class=\"dataframe\">\n",
       "  <thead>\n",
       "    <tr style=\"text-align: right;\">\n",
       "      <th></th>\n",
       "      <th>Equity</th>\n",
       "      <th>DrawdownPct</th>\n",
       "      <th>DrawdownDuration</th>\n",
       "    </tr>\n",
       "    <tr>\n",
       "      <th>time</th>\n",
       "      <th></th>\n",
       "      <th></th>\n",
       "      <th></th>\n",
       "    </tr>\n",
       "  </thead>\n",
       "  <tbody>\n",
       "    <tr>\n",
       "      <th>2020-01-01 00:00:00</th>\n",
       "      <td>100000.00000</td>\n",
       "      <td>0.000000</td>\n",
       "      <td>NaT</td>\n",
       "    </tr>\n",
       "    <tr>\n",
       "      <th>2020-01-01 01:00:00</th>\n",
       "      <td>100000.00000</td>\n",
       "      <td>0.000000</td>\n",
       "      <td>NaT</td>\n",
       "    </tr>\n",
       "    <tr>\n",
       "      <th>2020-01-01 02:00:00</th>\n",
       "      <td>100000.00000</td>\n",
       "      <td>0.000000</td>\n",
       "      <td>NaT</td>\n",
       "    </tr>\n",
       "    <tr>\n",
       "      <th>2020-01-01 03:00:00</th>\n",
       "      <td>100000.00000</td>\n",
       "      <td>0.000000</td>\n",
       "      <td>NaT</td>\n",
       "    </tr>\n",
       "    <tr>\n",
       "      <th>2020-01-01 04:00:00</th>\n",
       "      <td>100000.00000</td>\n",
       "      <td>0.000000</td>\n",
       "      <td>NaT</td>\n",
       "    </tr>\n",
       "    <tr>\n",
       "      <th>...</th>\n",
       "      <td>...</td>\n",
       "      <td>...</td>\n",
       "      <td>...</td>\n",
       "    </tr>\n",
       "    <tr>\n",
       "      <th>2023-01-08 23:00:00</th>\n",
       "      <td>514345.34622</td>\n",
       "      <td>0.435212</td>\n",
       "      <td>NaT</td>\n",
       "    </tr>\n",
       "    <tr>\n",
       "      <th>2023-01-09 00:00:00</th>\n",
       "      <td>515917.14622</td>\n",
       "      <td>0.433486</td>\n",
       "      <td>NaT</td>\n",
       "    </tr>\n",
       "    <tr>\n",
       "      <th>2023-01-09 01:00:00</th>\n",
       "      <td>515572.04622</td>\n",
       "      <td>0.433865</td>\n",
       "      <td>NaT</td>\n",
       "    </tr>\n",
       "    <tr>\n",
       "      <th>2023-01-09 02:00:00</th>\n",
       "      <td>516033.14622</td>\n",
       "      <td>0.433359</td>\n",
       "      <td>NaT</td>\n",
       "    </tr>\n",
       "    <tr>\n",
       "      <th>2023-01-09 03:00:00</th>\n",
       "      <td>516033.14622</td>\n",
       "      <td>0.433359</td>\n",
       "      <td>445 days 12:00:00</td>\n",
       "    </tr>\n",
       "  </tbody>\n",
       "</table>\n",
       "<p>26500 rows × 3 columns</p>\n",
       "</div>"
      ],
      "text/plain": [
       "                           Equity  DrawdownPct  DrawdownDuration\n",
       "time                                                            \n",
       "2020-01-01 00:00:00  100000.00000     0.000000               NaT\n",
       "2020-01-01 01:00:00  100000.00000     0.000000               NaT\n",
       "2020-01-01 02:00:00  100000.00000     0.000000               NaT\n",
       "2020-01-01 03:00:00  100000.00000     0.000000               NaT\n",
       "2020-01-01 04:00:00  100000.00000     0.000000               NaT\n",
       "...                           ...          ...               ...\n",
       "2023-01-08 23:00:00  514345.34622     0.435212               NaT\n",
       "2023-01-09 00:00:00  515917.14622     0.433486               NaT\n",
       "2023-01-09 01:00:00  515572.04622     0.433865               NaT\n",
       "2023-01-09 02:00:00  516033.14622     0.433359               NaT\n",
       "2023-01-09 03:00:00  516033.14622     0.433359 445 days 12:00:00\n",
       "\n",
       "[26500 rows x 3 columns]"
      ]
     },
     "execution_count": 9,
     "metadata": {},
     "output_type": "execute_result"
    }
   ],
   "source": [
    "stats['_equity_curve']"
   ]
  },
  {
   "cell_type": "code",
   "execution_count": 10,
   "metadata": {},
   "outputs": [
    {
     "data": {
      "image/png": "[encoded data removed]",
      "text/plain": [
       "<Figure size 1600x1000 with 1 Axes>"
      ]
     },
     "metadata": {},
     "output_type": "display_data"
    }
   ],
   "source": [
    "import matplotlib.pyplot as plt\n",
    "\n",
    "#stats['_equity_curve']\n",
    "plt.figure(figsize=(16, 10))\n",
    "plt.plot(stats['_equity_curve']['Equity'])\n",
    "plt.show()"
   ]
  }
 ],
 "metadata": {
  "kernelspec": {
   "display_name": "Python 3",
   "language": "python",
   "name": "python3"
  },
  "language_info": {
   "codemirror_mode": {
    "name": "ipython",
    "version": 3
   },
   "file_extension": ".py",
   "mimetype": "text/x-python",
   "name": "python",
   "nbconvert_exporter": "python",
   "pygments_lexer": "ipython3",
   "version": "3.10.11"
  }
 },
 "nbformat": 4,
 "nbformat_minor": 2
}
