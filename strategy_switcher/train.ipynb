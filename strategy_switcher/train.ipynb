{
 "cells": [
  {
   "cell_type": "code",
   "execution_count": 1,
   "metadata": {},
   "outputs": [],
   "source": [
    "import json\n",
    "import torch\n",
    "import torch.nn as nn\n",
    "import torch.optim as optim\n",
    "import pandas as pd\n",
    "import numpy as np\n",
    "import matplotlib.pyplot as plt\n",
    "from torch.utils.data import DataLoader, random_split"
   ]
  },
  {
   "cell_type": "code",
   "execution_count": 2,
   "metadata": {},
   "outputs": [],
   "source": [
    "\n",
    "# Read config file\n",
    "config = dict()\n",
    "with open('./config/training_config.json') as f:\n",
    "    config = json.load(f)\n",
    "\n",
    "# Set device to GPU if available, otherwise use CPU\n",
    "device = torch.device('cuda' if torch.cuda.is_available() else 'cpu')\n",
    "\n",
    "# Define hyperparameters\n",
    "num_epochs = config['num_epochs']\n",
    "batch_size = config['batch_size']\n",
    "learning_rate = config['learning_rate']"
   ]
  },
  {
   "cell_type": "code",
   "execution_count": 3,
   "metadata": {},
   "outputs": [],
   "source": [
    "# Load data\n",
    "df = pd.read_csv(config['data_path'])\n",
    "df = df.drop(config['drop_columns'], axis=1)\n",
    "df = df.dropna()\n",
    "df = df.reset_index(drop=True)\n",
    "df = df.sort_values('time')\n",
    "df = df.reset_index(drop=True)\n"
   ]
  },
  {
   "cell_type": "code",
   "execution_count": 4,
   "metadata": {},
   "outputs": [
    {
     "data": {
      "text/html": [
       "<div>\n",
       "<style scoped>\n",
       "    .dataframe tbody tr th:only-of-type {\n",
       "        vertical-align: middle;\n",
       "    }\n",
       "\n",
       "    .dataframe tbody tr th {\n",
       "        vertical-align: top;\n",
       "    }\n",
       "\n",
       "    .dataframe thead th {\n",
       "        text-align: right;\n",
       "    }\n",
       "</style>\n",
       "<table border=\"1\" class=\"dataframe\">\n",
       "  <thead>\n",
       "    <tr style=\"text-align: right;\">\n",
       "      <th></th>\n",
       "      <th>time</th>\n",
       "      <th>open</th>\n",
       "      <th>high</th>\n",
       "      <th>low</th>\n",
       "      <th>close</th>\n",
       "      <th>volume</th>\n",
       "      <th>ema_22</th>\n",
       "      <th>ema_50</th>\n",
       "      <th>ema_200</th>\n",
       "      <th>rsi</th>\n",
       "      <th>kurtosis</th>\n",
       "      <th>mad</th>\n",
       "      <th>tos_stdevall</th>\n",
       "      <th>signal1</th>\n",
       "    </tr>\n",
       "  </thead>\n",
       "  <tbody>\n",
       "    <tr>\n",
       "      <th>0</th>\n",
       "      <td>2020-02-03 04:00:00</td>\n",
       "      <td>9396.68</td>\n",
       "      <td>9432.61</td>\n",
       "      <td>9353.49</td>\n",
       "      <td>9372.99</td>\n",
       "      <td>14202.143</td>\n",
       "      <td>9356.411349</td>\n",
       "      <td>9189.706664</td>\n",
       "      <td>8416.197050</td>\n",
       "      <td>53.007172</td>\n",
       "      <td>0.032493</td>\n",
       "      <td>279.954432</td>\n",
       "      <td>336.223099</td>\n",
       "      <td>0.0</td>\n",
       "    </tr>\n",
       "    <tr>\n",
       "      <th>1</th>\n",
       "      <td>2020-02-03 08:00:00</td>\n",
       "      <td>9373.00</td>\n",
       "      <td>9407.00</td>\n",
       "      <td>9304.00</td>\n",
       "      <td>9356.72</td>\n",
       "      <td>22412.888</td>\n",
       "      <td>9356.438188</td>\n",
       "      <td>9196.256206</td>\n",
       "      <td>8425.555487</td>\n",
       "      <td>51.828757</td>\n",
       "      <td>0.287508</td>\n",
       "      <td>260.658208</td>\n",
       "      <td>316.831228</td>\n",
       "      <td>0.0</td>\n",
       "    </tr>\n",
       "    <tr>\n",
       "      <th>2</th>\n",
       "      <td>2020-02-03 12:00:00</td>\n",
       "      <td>9356.67</td>\n",
       "      <td>9378.82</td>\n",
       "      <td>9280.00</td>\n",
       "      <td>9283.16</td>\n",
       "      <td>23634.751</td>\n",
       "      <td>9350.066172</td>\n",
       "      <td>9199.664198</td>\n",
       "      <td>8434.088866</td>\n",
       "      <td>46.766572</td>\n",
       "      <td>0.493114</td>\n",
       "      <td>239.319800</td>\n",
       "      <td>295.114092</td>\n",
       "      <td>0.0</td>\n",
       "    </tr>\n",
       "    <tr>\n",
       "      <th>3</th>\n",
       "      <td>2020-02-03 16:00:00</td>\n",
       "      <td>9283.93</td>\n",
       "      <td>9348.00</td>\n",
       "      <td>9250.00</td>\n",
       "      <td>9331.11</td>\n",
       "      <td>26661.879</td>\n",
       "      <td>9348.417809</td>\n",
       "      <td>9204.818936</td>\n",
       "      <td>8443.014449</td>\n",
       "      <td>50.182294</td>\n",
       "      <td>0.859254</td>\n",
       "      <td>219.831376</td>\n",
       "      <td>276.379313</td>\n",
       "      <td>0.0</td>\n",
       "    </tr>\n",
       "    <tr>\n",
       "      <th>4</th>\n",
       "      <td>2020-02-03 20:00:00</td>\n",
       "      <td>9332.16</td>\n",
       "      <td>9360.00</td>\n",
       "      <td>9263.00</td>\n",
       "      <td>9300.64</td>\n",
       "      <td>14104.385</td>\n",
       "      <td>9344.263217</td>\n",
       "      <td>9208.576624</td>\n",
       "      <td>8451.548037</td>\n",
       "      <td>48.071461</td>\n",
       "      <td>1.019641</td>\n",
       "      <td>198.044056</td>\n",
       "      <td>253.643963</td>\n",
       "      <td>0.0</td>\n",
       "    </tr>\n",
       "  </tbody>\n",
       "</table>\n",
       "</div>"
      ],
      "text/plain": [
       "                  time     open     high      low    close     volume  \\\n",
       "0  2020-02-03 04:00:00  9396.68  9432.61  9353.49  9372.99  14202.143   \n",
       "1  2020-02-03 08:00:00  9373.00  9407.00  9304.00  9356.72  22412.888   \n",
       "2  2020-02-03 12:00:00  9356.67  9378.82  9280.00  9283.16  23634.751   \n",
       "3  2020-02-03 16:00:00  9283.93  9348.00  9250.00  9331.11  26661.879   \n",
       "4  2020-02-03 20:00:00  9332.16  9360.00  9263.00  9300.64  14104.385   \n",
       "\n",
       "        ema_22       ema_50      ema_200        rsi  kurtosis         mad  \\\n",
       "0  9356.411349  9189.706664  8416.197050  53.007172  0.032493  279.954432   \n",
       "1  9356.438188  9196.256206  8425.555487  51.828757  0.287508  260.658208   \n",
       "2  9350.066172  9199.664198  8434.088866  46.766572  0.493114  239.319800   \n",
       "3  9348.417809  9204.818936  8443.014449  50.182294  0.859254  219.831376   \n",
       "4  9344.263217  9208.576624  8451.548037  48.071461  1.019641  198.044056   \n",
       "\n",
       "   tos_stdevall  signal1  \n",
       "0    336.223099      0.0  \n",
       "1    316.831228      0.0  \n",
       "2    295.114092      0.0  \n",
       "3    276.379313      0.0  \n",
       "4    253.643963      0.0  "
      ]
     },
     "execution_count": 4,
     "metadata": {},
     "output_type": "execute_result"
    }
   ],
   "source": [
    "df.head()"
   ]
  },
  {
   "cell_type": "code",
   "execution_count": 5,
   "metadata": {},
   "outputs": [],
   "source": [
    "# Group data by windows_size\n",
    "windows_size = config['windows_size']\n",
    "group = []\n",
    "for t in range(len(df) - windows_size+1):group.append(df.iloc[t:t+windows_size])"
   ]
  },
  {
   "cell_type": "code",
   "execution_count": 6,
   "metadata": {},
   "outputs": [
    {
     "data": {
      "text/plain": [
       "(6797, 5, 14)"
      ]
     },
     "execution_count": 6,
     "metadata": {},
     "output_type": "execute_result"
    }
   ],
   "source": [
    "group = np.array(group)\n",
    "group.shape"
   ]
  },
  {
   "cell_type": "code",
   "execution_count": 7,
   "metadata": {},
   "outputs": [],
   "source": [
    "#Balance data group[:,:,-1][i][-1] > 0 and group[:,:,-1][i][-1] == 0 and group[:,:,-1][i][-1] < 0\n",
    "group_hold = []\n",
    "group_buy = []\n",
    "group_sell = []\n",
    "\n",
    "for i in range(len(group)):\n",
    "    if group[:,:,-1][i][-1] > 0:\n",
    "        group_buy.append(group[i])\n",
    "    elif group[:,:,-1][i][-1] == 0:\n",
    "        group_hold.append(group[i])\n",
    "    elif group[:,:,-1][i][-1] < 0:\n",
    "        group_sell.append(group[i])\n",
    "\n",
    "group_hold = np.array(group_hold)\n",
    "group_buy = np.array(group_buy)\n",
    "group_sell = np.array(group_sell)\n"
   ]
  },
  {
   "cell_type": "code",
   "execution_count": 8,
   "metadata": {},
   "outputs": [
    {
     "name": "stdout",
     "output_type": "stream",
     "text": [
      "(6729, 5, 14)\n",
      "(23, 5, 14)\n",
      "(45, 5, 14)\n"
     ]
    }
   ],
   "source": [
    "print(group_hold.shape)\n",
    "print(group_buy.shape)\n",
    "print(group_sell.shape)"
   ]
  },
  {
   "cell_type": "code",
   "execution_count": 9,
   "metadata": {},
   "outputs": [
    {
     "data": {
      "text/plain": [
       "array([['2020-07-06 04:00:00', 9087.31, 9238.23, 9080.14, 9199.71,\n",
       "        44067.463, 9098.58434232904, 9133.233560836425,\n",
       "        9249.687302320415, 62.2615062350233, -0.0808134972520387,\n",
       "        50.46530400000003, 62.92841235264658, 0.0],\n",
       "       ['2020-07-06 08:00:00', 9199.72, 9230.0, 9171.0, 9221.24,\n",
       "        18339.389, 9109.250051691732, 9136.6847937448, 9249.404244585883,\n",
       "        64.22037633731235, -0.4519611864033031, 49.84814399999999,\n",
       "        61.02846656023757, 0.0],\n",
       "       ['2020-07-06 12:00:00', 9221.24, 9320.0, 9200.0, 9302.99,\n",
       "        54834.379, 9126.09700371854, 9143.206566539122,\n",
       "        9249.937436182046, 70.48496776769062, 0.0069577788655023,\n",
       "        51.69635199999997, 64.54351985051602, 0.0],\n",
       "       ['2020-07-06 16:00:00', 9302.99, 9348.0, 9261.0, 9287.38,\n",
       "        39263.344, 9140.12161209084, 9148.860426674844,\n",
       "        9250.309999006104, 68.03538751839157, -0.0547802397337994,\n",
       "        53.48491999999984, 67.4028979653135, 0.0],\n",
       "       ['2020-07-06 20:00:00', 9287.83, 9379.0, 9255.1, 9339.6,\n",
       "        25700.089, 9157.467558865552, 9156.340409942495,\n",
       "        9251.19845672744, 71.59213046395196, 0.2988534047789099,\n",
       "        57.57500799999987, 73.50217910472341, 1.0]], dtype=object)"
      ]
     },
     "execution_count": 9,
     "metadata": {},
     "output_type": "execute_result"
    }
   ],
   "source": [
    "group_buy[1]"
   ]
  }
 ],
 "metadata": {
  "kernelspec": {
   "display_name": "Python 3",
   "language": "python",
   "name": "python3"
  },
  "language_info": {
   "codemirror_mode": {
    "name": "ipython",
    "version": 3
   },
   "file_extension": ".py",
   "mimetype": "text/x-python",
   "name": "python",
   "nbconvert_exporter": "python",
   "pygments_lexer": "ipython3",
   "version": "3.10.11"
  }
 },
 "nbformat": 4,
 "nbformat_minor": 2
}
